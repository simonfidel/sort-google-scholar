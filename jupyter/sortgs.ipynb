{
  "cells": [
    {
      "cell_type": "markdown",
      "metadata": {
        "id": "M36VFanosbkb"
      },
      "source": [
        "# Sort Google Scholar\n",
        "This is a jupyter envirnment where you can try the code of the repository without installing anything. The only limitation is the robot checking problem which would require selenium and manual solution of the captchas, but for trying a few keywords, it should work!\n",
        "\n",
        "> **INSTRUCTIONS:** If this is the first time you are using a jupyter environment, you simply have to run the code blocks using the keyword `SHIFT` + `ENTER`. Make sure to update the keyword parameters when required.\n",
        "\n",
        "SortGS has been recently included to PyPI, so the instructions here got simpler. First, let's install the package:"
      ]
    },
    {
      "cell_type": "code",
      "execution_count": 12,
      "metadata": {},
      "outputs": [],
      "source": [
        "!pip install sortgs pandas plotly --quiet"
      ]
    },
    {
      "cell_type": "code",
      "execution_count": 13,
      "metadata": {
        "colab": {
          "base_uri": "https://localhost:8080/"
        },
        "id": "oPot8aWcsfei",
        "outputId": "1c974ec7-b93e-4c12-9b96-d4b69c395924"
      },
      "outputs": [],
      "source": [
        "import sortgs\n",
        "import pandas as pd\n",
        "import os\n",
        "import plotly.express as px"
      ]
    },
    {
      "cell_type": "markdown",
      "metadata": {},
      "source": [
        "Example `search_query`:\n",
        "\n",
        "- `Large Language Models` → General search\n",
        "- `\"Large Language Models\"` → Exact phrase search\n",
        "- `Large Language Models -transformer` → Exclude specific term\n",
        "- `Large Language Models author:\"Geoffrey Hinton\"` → Search by author\n",
        "- `Large Language Models source:Nature` → Search within a specific publication\n",
        "- `(\"Large Language Models\" OR \"Transformer Models\") AND (GPT OR BERT)` → Boolean search\n",
        "- `intitle:\"Large Language Models\"` → Search in the title only"
      ]
    },
    {
      "cell_type": "code",
      "execution_count": 37,
      "metadata": {
        "colab": {
          "base_uri": "https://localhost:8080/"
        },
        "id": "dohZcNUmrost",
        "outputId": "359db4f7-7bd0-4eea-f4e0-efe6731c2b96"
      },
      "outputs": [
        {
          "name": "stdout",
          "output_type": "stream",
          "text": [
            "Constructed command: sortgs 'software as a service' --sortby 'cit/year' --nresults 100 --startyear 2021\n"
          ]
        }
      ],
      "source": [
        "# Main query\n",
        "search_query = '(\"software as a service\" OR \"software-as-a-service\") AND (\"latin america\" OR \"latam\" OR \"south america\" OR \"central america\")' # @param {type:\"string\"}\n",
        "search_query = 'software-as-a-service'\n",
        "search_query = 'software as a service'\n",
        "\n",
        "# Expanded form with extra parameters\n",
        "sortby = \"cit/year\"  # @param [\"Citations\", \"cit/year\"] {type:\"string\"}\n",
        "nresults = 100  # @param {type:\"number\"}\n",
        "startyear = '2021'  # @param {type:\"string\"}\n",
        "endyear = None  # @param {type:\"string\"}\n",
        "langfilter = None  # @param [\"None\", \"zh-CN\", \"zh-TW\", \"nl\", \"en\", \"fr\", \"de\", \"it\", \"ja\", \"ko\", \"pl\", \"pt\", \"es\", \"tr\"] {type:\"string\"}\n",
        "\n",
        "# Convert the langfilter to a list if it's not None\n",
        "if langfilter and langfilter != \"None\":\n",
        "    langfilter = [langfilter]\n",
        "else:\n",
        "    langfilter = None  # No language filter applied if \"None\" is selected\n",
        "\n",
        "# Constructing the base command\n",
        "cmd = f\"sortgs '{search_query}' --sortby '{sortby}' --nresults {nresults}\"\n",
        "\n",
        "if startyear:\n",
        "    cmd += f\" --startyear {startyear}\"\n",
        "\n",
        "if endyear:\n",
        "    cmd += f\" --endyear {endyear}\"\n",
        "\n",
        "if langfilter:\n",
        "    lang_str = ' '.join(langfilter)\n",
        "    cmd += f\" --langfilter {lang_str}\"\n",
        "\n",
        "# Output the constructed command for review\n",
        "print(\"Constructed command:\", cmd)\n"
      ]
    },
    {
      "cell_type": "code",
      "execution_count": 38,
      "metadata": {},
      "outputs": [
        {
          "name": "stdout",
          "output_type": "stream",
          "text": [
            "Running with the following parameters:\n",
            "Keyword: software as a service, Number of results: 100, Save database: True, Path: /Users/sotapanna/Sync/Software/sort-google-scholar/jupyter, Sort by: cit/year, Permitted Languages: All, Plot results: False, Start year: 2021, End year: 2025, Debug: False\n",
            "Loading next 10 results\n",
            "Loading next 20 results\n",
            "Loading next 30 results\n",
            "Loading next 40 results\n",
            "Loading next 50 results\n",
            "Loading next 60 results\n",
            "Loading next 70 results\n",
            "Loading next 80 results\n",
            "Loading next 90 results\n",
            "Loading next 100 results\n",
            "                                                Author  ... cit/year\n",
            "Rank                                                    ...         \n",
            "62                       F Saputra, B Cut, F Nilamsari  ...       71\n",
            "42                           CM Mohammed, SRM Zeebaree  ...       39\n",
            "51        M Kohtamäki, R Rabetino, S Einola, V Parida…  ...       27\n",
            "46    T Huikkola, M Kohtamäki, R Rabetino, H Makkonen…  ...       17\n",
            "37                                    CA Cruz, F Matos  ...       15\n",
            "...                                                ...  ...      ...\n",
            "78                             M Murugan, MN Prabadevi  ...        0\n",
            "24                                        J Kärkkäinen  ...        0\n",
            "23                                            M Dakkak  ...        0\n",
            "16                                           O Byström  ...        0\n",
            "9                       CC Dura, I Drigă, AMM Iordache  ...        0\n",
            "\n",
            "[100 rows x 8 columns]\n",
            "Results saved to /Users/sotapanna/Sync/Software/sort-google-scholar/jupyter/software_as_a_service.csv\n"
          ]
        }
      ],
      "source": [
        "!{cmd}"
      ]
    },
    {
      "cell_type": "markdown",
      "metadata": {
        "id": "s_nuxpy_s_9c"
      },
      "source": [
        "> _**NOTE:** It is normal to get some warnings, for example year not found or author not found. However, if you get the robot checking warning, then it might not work anymore in the IP that you have. You can try going in 'Runtime' > 'Disconnect and delete runtime' to get a new IP. If the problem persists, then you will have to run locally using selenium and solve the captchas manually. Make sure to avoid running this code too often to avoid the robot checking problem._\n",
        "\n",
        "Next, you will see that a csv file with the name of the keyword was created."
      ]
    },
    {
      "cell_type": "code",
      "execution_count": 40,
      "metadata": {
        "colab": {
          "base_uri": "https://localhost:8080/",
          "height": 537
        },
        "id": "S1NzeUq0sOu-",
        "outputId": "cba23086-7481-4992-f7f8-a1163e2e2b4b"
      },
      "outputs": [
        {
          "data": {
            "text/html": [
              "<div>\n",
              "<style scoped>\n",
              "    .dataframe tbody tr th:only-of-type {\n",
              "        vertical-align: middle;\n",
              "    }\n",
              "\n",
              "    .dataframe tbody tr th {\n",
              "        vertical-align: top;\n",
              "    }\n",
              "\n",
              "    .dataframe thead th {\n",
              "        text-align: right;\n",
              "    }\n",
              "</style>\n",
              "<table border=\"1\" class=\"dataframe\">\n",
              "  <thead>\n",
              "    <tr style=\"text-align: right;\">\n",
              "      <th></th>\n",
              "      <th>Rank</th>\n",
              "      <th>Author</th>\n",
              "      <th>Title</th>\n",
              "      <th>Citations</th>\n",
              "      <th>Year</th>\n",
              "      <th>Publisher</th>\n",
              "      <th>Venue</th>\n",
              "      <th>Source</th>\n",
              "      <th>cit/year</th>\n",
              "    </tr>\n",
              "  </thead>\n",
              "  <tbody>\n",
              "    <tr>\n",
              "      <th>0</th>\n",
              "      <td>62</td>\n",
              "      <td>F Saputra, B Cut, F Nilamsari</td>\n",
              "      <td>Analisis Perbandingan Tiga Software Terhadap Pengukuran Quality Of service (QoS) Pada Pengukuran Jaringan Wireless Internet</td>\n",
              "      <td>212</td>\n",
              "      <td>2023</td>\n",
              "      <td>jurnal.utu.ac.id</td>\n",
              "      <td>Jurnal Teknologi Informasi</td>\n",
              "      <td>http://jurnal.utu.ac.id/JTI/article/view/7275</td>\n",
              "      <td>71</td>\n",
              "    </tr>\n",
              "    <tr>\n",
              "      <th>1</th>\n",
              "      <td>42</td>\n",
              "      <td>CM Mohammed, SRM Zeebaree</td>\n",
              "      <td>Sufficient comparison among cloud computing services: IaaS, PaaS, and SaaS: A review</td>\n",
              "      <td>197</td>\n",
              "      <td>2021</td>\n",
              "      <td>ideas.repec.org</td>\n",
              "      <td>International Journal of Science …</td>\n",
              "      <td>https://ideas.repec.org/a/aif/journl/v5y2021i2p17-30.html</td>\n",
              "      <td>39</td>\n",
              "    </tr>\n",
              "    <tr>\n",
              "      <th>2</th>\n",
              "      <td>51</td>\n",
              "      <td>M Kohtamäki, R Rabetino, S Einola, V Parida…</td>\n",
              "      <td>Unfolding the digital servitization path from products to product-service-software systems: Practicing change through intentional narratives</td>\n",
              "      <td>134</td>\n",
              "      <td>2021</td>\n",
              "      <td>Elsevier</td>\n",
              "      <td>Journal of Business …</td>\n",
              "      <td>https://www.sciencedirect.com/science/article/pii/S0148296321005865</td>\n",
              "      <td>27</td>\n",
              "    </tr>\n",
              "    <tr>\n",
              "      <th>3</th>\n",
              "      <td>46</td>\n",
              "      <td>T Huikkola, M Kohtamäki, R Rabetino, H Makkonen…</td>\n",
              "      <td>Overcoming the challenges of smart solution development: Co-alignment of processes, routines, and practices to manage product, service, and software …</td>\n",
              "      <td>67</td>\n",
              "      <td>2022</td>\n",
              "      <td>Elsevier</td>\n",
              "      <td>Technovation</td>\n",
              "      <td>https://www.sciencedirect.com/science/article/pii/S0166497221001632</td>\n",
              "      <td>17</td>\n",
              "    </tr>\n",
              "    <tr>\n",
              "      <th>4</th>\n",
              "      <td>37</td>\n",
              "      <td>CA Cruz, F Matos</td>\n",
              "      <td>ESG maturity: A software framework for the challenges of ESG data in investment</td>\n",
              "      <td>46</td>\n",
              "      <td>2023</td>\n",
              "      <td>mdpi.com</td>\n",
              "      <td>Sustainability</td>\n",
              "      <td>https://www.mdpi.com/2071-1050/15/3/2610</td>\n",
              "      <td>15</td>\n",
              "    </tr>\n",
              "    <tr>\n",
              "      <th>5</th>\n",
              "      <td>40</td>\n",
              "      <td>DMV Rao, SS Vellela, K Basha Sk…</td>\n",
              "      <td>Systematic Review on Software Application Under-distributed Denial of Service Attacks for Group Websites</td>\n",
              "      <td>43</td>\n",
              "      <td>2023</td>\n",
              "      <td>papers.ssrn.com</td>\n",
              "      <td>Dogo Rangsang …</td>\n",
              "      <td>https://papers.ssrn.com/sol3/papers.cfm?abstract_id=4502464</td>\n",
              "      <td>14</td>\n",
              "    </tr>\n",
              "    <tr>\n",
              "      <th>6</th>\n",
              "      <td>39</td>\n",
              "      <td>WG Gadallah, HM Ibrahim, NM Omar</td>\n",
              "      <td>A deep learning technique to detect distributed denial of service attacks in software-defined networks</td>\n",
              "      <td>28</td>\n",
              "      <td>2024</td>\n",
              "      <td>Elsevier</td>\n",
              "      <td>Computers &amp; Security</td>\n",
              "      <td>https://www.sciencedirect.com/science/article/pii/S0167404823004984</td>\n",
              "      <td>14</td>\n",
              "    </tr>\n",
              "    <tr>\n",
              "      <th>7</th>\n",
              "      <td>31</td>\n",
              "      <td>J Mero, M Leinonen, H Makkonen…</td>\n",
              "      <td>Agile logic for SaaS implementation: Capitalizing on marketing automation software in a start-up</td>\n",
              "      <td>56</td>\n",
              "      <td>2022</td>\n",
              "      <td>Elsevier</td>\n",
              "      <td>Journal of business …</td>\n",
              "      <td>https://www.sciencedirect.com/science/article/pii/S0148296322002545</td>\n",
              "      <td>14</td>\n",
              "    </tr>\n",
              "    <tr>\n",
              "      <th>8</th>\n",
              "      <td>22</td>\n",
              "      <td>M Abdellatif, A Shatnawi, H Mili, N Moha…</td>\n",
              "      <td>A taxonomy of service identification approaches for legacy software systems modernization</td>\n",
              "      <td>71</td>\n",
              "      <td>2021</td>\n",
              "      <td>Elsevier</td>\n",
              "      <td>… of Systems and Software</td>\n",
              "      <td>https://www.sciencedirect.com/science/article/pii/S0164121220302582</td>\n",
              "      <td>14</td>\n",
              "    </tr>\n",
              "    <tr>\n",
              "      <th>9</th>\n",
              "      <td>48</td>\n",
              "      <td>NS Musa, NM Mirza, SH Rafique, AM Abdallah…</td>\n",
              "      <td>machine learning and deep learning techniques for distributed denial of service anomaly detection in software defined networks—current research solutions</td>\n",
              "      <td>23</td>\n",
              "      <td>2024</td>\n",
              "      <td>ieeexplore.ieee.org</td>\n",
              "      <td>IEEE …</td>\n",
              "      <td>https://ieeexplore.ieee.org/abstract/document/10418146/</td>\n",
              "      <td>12</td>\n",
              "    </tr>\n",
              "    <tr>\n",
              "      <th>10</th>\n",
              "      <td>29</td>\n",
              "      <td>R Baldwin, T Okubo</td>\n",
              "      <td>Are software automation and teleworker substitutes? Preliminary evidence from Japan</td>\n",
              "      <td>24</td>\n",
              "      <td>2024</td>\n",
              "      <td>Wiley Online Library</td>\n",
              "      <td>The World Economy</td>\n",
              "      <td>https://onlinelibrary.wiley.com/doi/abs/10.1111/twec.13496</td>\n",
              "      <td>12</td>\n",
              "    </tr>\n",
              "    <tr>\n",
              "      <th>11</th>\n",
              "      <td>53</td>\n",
              "      <td>J Ali, BH Roh</td>\n",
              "      <td>Quality of service improvement with optimal software-defined networking controller and control plane clustering</td>\n",
              "      <td>54</td>\n",
              "      <td>2021</td>\n",
              "      <td>academia.edu</td>\n",
              "      <td>Comput. Mater. Contin</td>\n",
              "      <td>https://www.academia.edu/download/95423631/pdf.pdf</td>\n",
              "      <td>11</td>\n",
              "    </tr>\n",
              "    <tr>\n",
              "      <th>12</th>\n",
              "      <td>65</td>\n",
              "      <td>AS Alshra'a, A Farhat, J Seitz</td>\n",
              "      <td>Deep learning algorithms for detecting denial of service attacks in software-defined networks</td>\n",
              "      <td>43</td>\n",
              "      <td>2021</td>\n",
              "      <td>Elsevier</td>\n",
              "      <td>Procedia Computer Science</td>\n",
              "      <td>https://www.sciencedirect.com/science/article/pii/S1877050921014277</td>\n",
              "      <td>9</td>\n",
              "    </tr>\n",
              "    <tr>\n",
              "      <th>13</th>\n",
              "      <td>55</td>\n",
              "      <td>U Sharma, R Sadam</td>\n",
              "      <td>How far does the predictive decision impact the software project? The cost, service time, and failure analysis from a cross-project defect prediction model</td>\n",
              "      <td>27</td>\n",
              "      <td>2023</td>\n",
              "      <td>Elsevier</td>\n",
              "      <td>Journal of Systems and Software</td>\n",
              "      <td>https://www.sciencedirect.com/science/article/pii/S0164121222001984</td>\n",
              "      <td>9</td>\n",
              "    </tr>\n",
              "    <tr>\n",
              "      <th>14</th>\n",
              "      <td>20</td>\n",
              "      <td>HK Andi</td>\n",
              "      <td>Analysis of serverless computing techniques in cloud software framework</td>\n",
              "      <td>39</td>\n",
              "      <td>2021</td>\n",
              "      <td>researchgate.net</td>\n",
              "      <td>Journal of IoT in Social  Mobile  Analytics  and Cloud</td>\n",
              "      <td>https://www.researchgate.net/profile/Hari-Andi-2/publication/354033755_Analysis_of_Serverless_Computing_Techniques_in_Cloud_Software_Framework/links/618c6b1dd7d1af224bd509df/Analysis-of-Serverless-Computing-Techniques-in-Cloud-Software-Framework.pdf?_sg%5B0%5D=started_experiment_milestone&amp;origin=journalDetail</td>\n",
              "      <td>8</td>\n",
              "    </tr>\n",
              "    <tr>\n",
              "      <th>15</th>\n",
              "      <td>63</td>\n",
              "      <td>Y Njah, M Cheriet</td>\n",
              "      <td>Parallel route optimization and service assurance in energy-efficient software-defined industrial IoT networks</td>\n",
              "      <td>41</td>\n",
              "      <td>2021</td>\n",
              "      <td>ieeexplore.ieee.org</td>\n",
              "      <td>IEEE Access</td>\n",
              "      <td>https://ieeexplore.ieee.org/abstract/document/9345696/</td>\n",
              "      <td>8</td>\n",
              "    </tr>\n",
              "    <tr>\n",
              "      <th>16</th>\n",
              "      <td>1</td>\n",
              "      <td>M Seifert, S Kuehnel, S Sackmann</td>\n",
              "      <td>Hybrid clouds arising from software as a service adoption: challenges, solutions, and future research directions</td>\n",
              "      <td>25</td>\n",
              "      <td>2023</td>\n",
              "      <td>dl.acm.org</td>\n",
              "      <td>ACM Computing Surveys</td>\n",
              "      <td>https://dl.acm.org/doi/abs/10.1145/3570156</td>\n",
              "      <td>8</td>\n",
              "    </tr>\n",
              "    <tr>\n",
              "      <th>17</th>\n",
              "      <td>32</td>\n",
              "      <td>H Babbar, S Parthiban, G Radhakrishnan…</td>\n",
              "      <td>A genetic load balancing algorithm to improve the QoS metrics for software defined networking for multimedia applications</td>\n",
              "      <td>28</td>\n",
              "      <td>2022</td>\n",
              "      <td>Springer</td>\n",
              "      <td>Multimedia Tools and …</td>\n",
              "      <td>https://link.springer.com/article/10.1007/s11042-021-11467-x</td>\n",
              "      <td>7</td>\n",
              "    </tr>\n",
              "    <tr>\n",
              "      <th>18</th>\n",
              "      <td>97</td>\n",
              "      <td>MA Setitra, M Fan…</td>\n",
              "      <td>An efficient approach to detect distributed denial of service attacks for software defined internet of things combining autoencoder and extreme gradient boosting with …</td>\n",
              "      <td>21</td>\n",
              "      <td>2023</td>\n",
              "      <td>Wiley Online Library</td>\n",
              "      <td>Transactions on Emerging …</td>\n",
              "      <td>https://onlinelibrary.wiley.com/doi/abs/10.1002/ett.4827</td>\n",
              "      <td>7</td>\n",
              "    </tr>\n",
              "    <tr>\n",
              "      <th>19</th>\n",
              "      <td>28</td>\n",
              "      <td>J Zaki, SMR Islam, NS Alghamdi…</td>\n",
              "      <td>Introducing cloud-assisted micro-service-based software development framework for healthcare systems</td>\n",
              "      <td>29</td>\n",
              "      <td>2022</td>\n",
              "      <td>ieeexplore.ieee.org</td>\n",
              "      <td>IEEE …</td>\n",
              "      <td>https://ieeexplore.ieee.org/abstract/document/9739683/</td>\n",
              "      <td>7</td>\n",
              "    </tr>\n",
              "  </tbody>\n",
              "</table>\n",
              "</div>"
            ],
            "text/plain": [
              "    Rank                                            Author  \\\n",
              "0     62                     F Saputra, B Cut, F Nilamsari   \n",
              "1     42                         CM Mohammed, SRM Zeebaree   \n",
              "2     51      M Kohtamäki, R Rabetino, S Einola, V Parida…   \n",
              "3     46  T Huikkola, M Kohtamäki, R Rabetino, H Makkonen…   \n",
              "4     37                                  CA Cruz, F Matos   \n",
              "5     40                  DMV Rao, SS Vellela, K Basha Sk…   \n",
              "6     39                  WG Gadallah, HM Ibrahim, NM Omar   \n",
              "7     31                   J Mero, M Leinonen, H Makkonen…   \n",
              "8     22         M Abdellatif, A Shatnawi, H Mili, N Moha…   \n",
              "9     48       NS Musa, NM Mirza, SH Rafique, AM Abdallah…   \n",
              "10    29                                R Baldwin, T Okubo   \n",
              "11    53                                     J Ali, BH Roh   \n",
              "12    65                    AS Alshra'a, A Farhat, J Seitz   \n",
              "13    55                                 U Sharma, R Sadam   \n",
              "14    20                                           HK Andi   \n",
              "15    63                                 Y Njah, M Cheriet   \n",
              "16     1                  M Seifert, S Kuehnel, S Sackmann   \n",
              "17    32           H Babbar, S Parthiban, G Radhakrishnan…   \n",
              "18    97                                MA Setitra, M Fan…   \n",
              "19    28                   J Zaki, SMR Islam, NS Alghamdi…   \n",
              "\n",
              "                                                                                                                                                                       Title  \\\n",
              "0                                                Analisis Perbandingan Tiga Software Terhadap Pengukuran Quality Of service (QoS) Pada Pengukuran Jaringan Wireless Internet   \n",
              "1                                                                                       Sufficient comparison among cloud computing services: IaaS, PaaS, and SaaS: A review   \n",
              "2                               Unfolding the digital servitization path from products to product-service-software systems: Practicing change through intentional narratives   \n",
              "3                     Overcoming the challenges of smart solution development: Co-alignment of processes, routines, and practices to manage product, service, and software …   \n",
              "4                                                                                            ESG maturity: A software framework for the challenges of ESG data in investment   \n",
              "5                                                                   Systematic Review on Software Application Under-distributed Denial of Service Attacks for Group Websites   \n",
              "6                                                                     A deep learning technique to detect distributed denial of service attacks in software-defined networks   \n",
              "7                                                                           Agile logic for SaaS implementation: Capitalizing on marketing automation software in a start-up   \n",
              "8                                                                                  A taxonomy of service identification approaches for legacy software systems modernization   \n",
              "9                  machine learning and deep learning techniques for distributed denial of service anomaly detection in software defined networks—current research solutions   \n",
              "10                                                                                       Are software automation and teleworker substitutes? Preliminary evidence from Japan   \n",
              "11                                                           Quality of service improvement with optimal software-defined networking controller and control plane clustering   \n",
              "12                                                                             Deep learning algorithms for detecting denial of service attacks in software-defined networks   \n",
              "13               How far does the predictive decision impact the software project? The cost, service time, and failure analysis from a cross-project defect prediction model   \n",
              "14                                                                                                   Analysis of serverless computing techniques in cloud software framework   \n",
              "15                                                            Parallel route optimization and service assurance in energy-efficient software-defined industrial IoT networks   \n",
              "16                                                          Hybrid clouds arising from software as a service adoption: challenges, solutions, and future research directions   \n",
              "17                                                 A genetic load balancing algorithm to improve the QoS metrics for software defined networking for multimedia applications   \n",
              "18  An efficient approach to detect distributed denial of service attacks for software defined internet of things combining autoencoder and extreme gradient boosting with …   \n",
              "19                                                                      Introducing cloud-assisted micro-service-based software development framework for healthcare systems   \n",
              "\n",
              "    Citations  Year              Publisher  \\\n",
              "0         212  2023       jurnal.utu.ac.id   \n",
              "1         197  2021        ideas.repec.org   \n",
              "2         134  2021               Elsevier   \n",
              "3          67  2022               Elsevier   \n",
              "4          46  2023               mdpi.com   \n",
              "5          43  2023        papers.ssrn.com   \n",
              "6          28  2024               Elsevier   \n",
              "7          56  2022               Elsevier   \n",
              "8          71  2021               Elsevier   \n",
              "9          23  2024    ieeexplore.ieee.org   \n",
              "10         24  2024   Wiley Online Library   \n",
              "11         54  2021           academia.edu   \n",
              "12         43  2021               Elsevier   \n",
              "13         27  2023               Elsevier   \n",
              "14         39  2021       researchgate.net   \n",
              "15         41  2021    ieeexplore.ieee.org   \n",
              "16         25  2023             dl.acm.org   \n",
              "17         28  2022               Springer   \n",
              "18         21  2023   Wiley Online Library   \n",
              "19         29  2022    ieeexplore.ieee.org   \n",
              "\n",
              "                                                      Venue  \\\n",
              "0                                Jurnal Teknologi Informasi   \n",
              "1                        International Journal of Science …   \n",
              "2                                     Journal of Business …   \n",
              "3                                              Technovation   \n",
              "4                                            Sustainability   \n",
              "5                                           Dogo Rangsang …   \n",
              "6                                      Computers & Security   \n",
              "7                                     Journal of business …   \n",
              "8                                 … of Systems and Software   \n",
              "9                                                    IEEE …   \n",
              "10                                        The World Economy   \n",
              "11                                    Comput. Mater. Contin   \n",
              "12                                Procedia Computer Science   \n",
              "13                          Journal of Systems and Software   \n",
              "14   Journal of IoT in Social  Mobile  Analytics  and Cloud   \n",
              "15                                              IEEE Access   \n",
              "16                                    ACM Computing Surveys   \n",
              "17                                   Multimedia Tools and …   \n",
              "18                               Transactions on Emerging …   \n",
              "19                                                   IEEE …   \n",
              "\n",
              "                                                                                                                                                                                                                                                                                                                    Source  \\\n",
              "0                                                                                                                                                                                                                                                                            http://jurnal.utu.ac.id/JTI/article/view/7275   \n",
              "1                                                                                                                                                                                                                                                                https://ideas.repec.org/a/aif/journl/v5y2021i2p17-30.html   \n",
              "2                                                                                                                                                                                                                                                      https://www.sciencedirect.com/science/article/pii/S0148296321005865   \n",
              "3                                                                                                                                                                                                                                                      https://www.sciencedirect.com/science/article/pii/S0166497221001632   \n",
              "4                                                                                                                                                                                                                                                                                 https://www.mdpi.com/2071-1050/15/3/2610   \n",
              "5                                                                                                                                                                                                                                                              https://papers.ssrn.com/sol3/papers.cfm?abstract_id=4502464   \n",
              "6                                                                                                                                                                                                                                                      https://www.sciencedirect.com/science/article/pii/S0167404823004984   \n",
              "7                                                                                                                                                                                                                                                      https://www.sciencedirect.com/science/article/pii/S0148296322002545   \n",
              "8                                                                                                                                                                                                                                                      https://www.sciencedirect.com/science/article/pii/S0164121220302582   \n",
              "9                                                                                                                                                                                                                                                                  https://ieeexplore.ieee.org/abstract/document/10418146/   \n",
              "10                                                                                                                                                                                                                                                              https://onlinelibrary.wiley.com/doi/abs/10.1111/twec.13496   \n",
              "11                                                                                                                                                                                                                                                                      https://www.academia.edu/download/95423631/pdf.pdf   \n",
              "12                                                                                                                                                                                                                                                     https://www.sciencedirect.com/science/article/pii/S1877050921014277   \n",
              "13                                                                                                                                                                                                                                                     https://www.sciencedirect.com/science/article/pii/S0164121222001984   \n",
              "14  https://www.researchgate.net/profile/Hari-Andi-2/publication/354033755_Analysis_of_Serverless_Computing_Techniques_in_Cloud_Software_Framework/links/618c6b1dd7d1af224bd509df/Analysis-of-Serverless-Computing-Techniques-in-Cloud-Software-Framework.pdf?_sg%5B0%5D=started_experiment_milestone&origin=journalDetail   \n",
              "15                                                                                                                                                                                                                                                                  https://ieeexplore.ieee.org/abstract/document/9345696/   \n",
              "16                                                                                                                                                                                                                                                                              https://dl.acm.org/doi/abs/10.1145/3570156   \n",
              "17                                                                                                                                                                                                                                                            https://link.springer.com/article/10.1007/s11042-021-11467-x   \n",
              "18                                                                                                                                                                                                                                                                https://onlinelibrary.wiley.com/doi/abs/10.1002/ett.4827   \n",
              "19                                                                                                                                                                                                                                                                  https://ieeexplore.ieee.org/abstract/document/9739683/   \n",
              "\n",
              "    cit/year  \n",
              "0         71  \n",
              "1         39  \n",
              "2         27  \n",
              "3         17  \n",
              "4         15  \n",
              "5         14  \n",
              "6         14  \n",
              "7         14  \n",
              "8         14  \n",
              "9         12  \n",
              "10        12  \n",
              "11        11  \n",
              "12         9  \n",
              "13         9  \n",
              "14         8  \n",
              "15         8  \n",
              "16         8  \n",
              "17         7  \n",
              "18         7  \n",
              "19         7  "
            ]
          },
          "execution_count": 40,
          "metadata": {},
          "output_type": "execute_result"
        }
      ],
      "source": [
        "csv_filename = search_query.replace(' ', '_')+'.csv'\n",
        "df = pd.read_csv(csv_filename)\n",
        "pd.set_option('display.max_colwidth', None)  # Set to None for full width\n",
        "df.head(20)"
      ]
    },
    {
      "cell_type": "code",
      "execution_count": 11,
      "metadata": {},
      "outputs": [
        {
          "data": {
            "application/vnd.plotly.v1+json": {
              "config": {
                "plotlyServerURL": "https://plot.ly"
              },
              "data": [
                {
                  "customdata": [
                    [
                      "A Alam",
                      2022,
                      " Springer",
                      " … Communication  Networking and IoT: Proceedings of …",
                      93
                    ],
                    [
                      "P Kumar, GP Gupta, R Tripathi",
                      2021,
                      " Elsevier",
                      " Computer Communications",
                      54
                    ],
                    [
                      "J Logeshwaran",
                      2022,
                      " ictactjournals.in",
                      " ICTACT Journal on Data Science and Machine …",
                      41
                    ],
                    [
                      "CM Mohammed, SRM Zeebaree",
                      2021,
                      " ideas.repec.org",
                      " International Journal of Science …",
                      39
                    ],
                    [
                      "M Kohtamäki, R Rabetino, S Einola, V Parida…",
                      2021,
                      " Elsevier",
                      " Journal of Business …",
                      27
                    ],
                    [
                      "GS Aujla, M Singh, A Bose, N Kumar, G Han…",
                      2020,
                      " ieeexplore.ieee.org",
                      " IEEE …",
                      23
                    ],
                    [
                      "Z Jia, M Sheng, J Li, D Zhou…",
                      2021,
                      " ieeexplore.ieee.org",
                      " IEEE Transactions on …",
                      18
                    ],
                    [
                      "J Hsuan, M Jovanovic, DH Clemente",
                      2021,
                      " emerald.com",
                      " International Journal of …",
                      17
                    ],
                    [
                      "T Huikkola, M Kohtamäki, R Rabetino, H Makkonen…",
                      2022,
                      " Elsevier",
                      " Technovation",
                      17
                    ],
                    [
                      "MA Aladaileh, M Anbar, IH Hasbullah, YW Chong…",
                      2020,
                      " ieeexplore.ieee.org",
                      " IEEE …",
                      17
                    ],
                    [
                      "CA Cruz, F Matos",
                      2023,
                      " mdpi.com",
                      " Sustainability",
                      15
                    ],
                    [
                      "S García, D Strüber, D Brugali, T Berger…",
                      2020,
                      " dl.acm.org",
                      " … on European Software …",
                      15
                    ],
                    [
                      "J Garcia-Alonso, J Rojo, D Valencia…",
                      2021,
                      " ieeexplore.ieee.org",
                      " IEEE Internet …",
                      15
                    ],
                    [
                      "E Moguel, J Rojo, D Valencia, J Berrocal…",
                      2022,
                      " Springer",
                      " Software Quality …",
                      15
                    ],
                    [
                      "M Abdellatif, A Shatnawi, H Mili, N Moha…",
                      2021,
                      " Elsevier",
                      " … of Systems and Software",
                      14
                    ],
                    [
                      "J Rodrigues, P Ruivo, T Oliveira",
                      2021,
                      " Elsevier",
                      " Information & Management",
                      14
                    ],
                    [
                      "J Mero, M Leinonen, H Makkonen…",
                      2022,
                      " Elsevier",
                      " Journal of business …",
                      14
                    ],
                    [
                      "WG Gadallah, HM Ibrahim, NM Omar",
                      2024,
                      " Elsevier",
                      " Computers & Security",
                      14
                    ],
                    [
                      "DMV Rao, SS Vellela, K Basha Sk…",
                      2023,
                      " papers.ssrn.com",
                      " Dogo Rangsang …",
                      14
                    ],
                    [
                      "N Zhao, J Chen, Z Yu, H Wang, J Li, B Qiu…",
                      2021,
                      " dl.acm.org",
                      " … on European Software …",
                      13
                    ],
                    [
                      "R Baldwin, T Okubo",
                      2024,
                      " Wiley Online Library",
                      " The World Economy",
                      12
                    ],
                    [
                      "G Zakurdaev, M Ismail, CH Lung",
                      2022,
                      " ieeexplore.ieee.org",
                      " 2022 IEEE 12th Annual …",
                      11
                    ],
                    [
                      "G Manogaran, T Baabdullah, DB Rawat…",
                      2021,
                      " ieeexplore.ieee.org",
                      " IEEE Internet of …",
                      10
                    ],
                    [
                      "B Li, S Kumar",
                      2022,
                      " journals.sagepub.com",
                      " Production and operations management",
                      10
                    ],
                    [
                      "TA Pascoal, IE Fonseca, V Nigam",
                      2020,
                      " Elsevier",
                      " Computer Networks",
                      10
                    ],
                    [
                      "HK Andi",
                      2021,
                      " researchgate.net",
                      " Journal of IoT in Social  Mobile  Analytics  and Cloud",
                      8
                    ],
                    [
                      "M Seifert, S Kuehnel, S Sackmann",
                      2023,
                      " dl.acm.org",
                      " ACM Computing Surveys",
                      8
                    ],
                    [
                      "F Vaudour, A Heinze",
                      2020,
                      " Wiley Online Library",
                      " Global Business and Organizational …",
                      8
                    ],
                    [
                      "H Babbar, S Parthiban, G Radhakrishnan…",
                      2022,
                      " Springer",
                      " Multimedia Tools and …",
                      7
                    ],
                    [
                      "KCA Lat, DL Silva, KLM de Jesus",
                      2022,
                      " ieeexplore.ieee.org",
                      " … Engineering  Software …",
                      7
                    ],
                    [
                      "J Zaki, SMR Islam, NS Alghamdi…",
                      2022,
                      " ieeexplore.ieee.org",
                      " IEEE …",
                      7
                    ],
                    [
                      "M Humayun, M Niazi, MF Almufareh, NZ Jhanjhi…",
                      2022,
                      " mdpi.com",
                      " Applied Sciences",
                      7
                    ],
                    [
                      "SK Shukla",
                      2020,
                      " Elsevier",
                      " International Journal of Information Management",
                      6
                    ],
                    [
                      "X Li, R Xie, FR Yu, T Huang, Y Liu",
                      2021,
                      " ieeexplore.ieee.org",
                      " IEEE Network",
                      5
                    ],
                    [
                      "T Kanij, J Grundy",
                      2020,
                      " ieeexplore.ieee.org",
                      " 2020 IEEE 32nd conference on software …",
                      5
                    ],
                    [
                      "Z Zhang",
                      2020,
                      " Elsevier",
                      " Information & Management",
                      5
                    ],
                    [
                      "G Dewarani, Y Alversia",
                      2023,
                      " search.proquest.com",
                      " Innovative Marketing",
                      5
                    ],
                    [
                      "J Cámara, B Schmerl, D Garlan",
                      2020,
                      " dl.acm.org",
                      " … International Symposium on Software …",
                      5
                    ],
                    [
                      "D Cotroneo, L De Simone, P Liguori…",
                      2020,
                      " ieeexplore.ieee.org",
                      " 2020 50th annual …",
                      5
                    ],
                    [
                      "W Ren, S Barrett, S Das",
                      2020,
                      " dl.acm.org",
                      " …   Software Engineering and Service Sciences",
                      4
                    ],
                    [
                      "JM Alonso, P Ducange, R Pecori…",
                      2020,
                      " ieeexplore.ieee.org",
                      " 2020 IEEE International …",
                      4
                    ],
                    [
                      "S Gaiardelli, S Spellini, M Panato…",
                      2022,
                      " ieeexplore.ieee.org",
                      " … Design  Automation & …",
                      4
                    ],
                    [
                      "E Chen, S Wang, Y Fan, Y Zhu…",
                      2023,
                      " ieeexplore.ieee.org",
                      " IEEE Transactions on …",
                      4
                    ],
                    [
                      "X Zhang, WT Yue",
                      2020,
                      " aisel.aisnet.org",
                      " Journal of the Association for Information …",
                      4
                    ],
                    [
                      "DF Blanco, F Le Mouël, T Lin, MP Escudié",
                      2023,
                      " ieeexplore.ieee.org",
                      " IEEE Access",
                      4
                    ],
                    [
                      "S Khalil, TJ Winkler",
                      2023,
                      " Elsevier",
                      " The Journal of Strategic Information Systems",
                      4
                    ],
                    [
                      "C Nam, S Lee, J Lee, SH Cheong, DH Kim, C Kim…",
                      2020,
                      " ieeexplore.ieee.org",
                      " IEEE …",
                      4
                    ],
                    [
                      "LS Lee, WD Brink",
                      2020,
                      " publications.aaahq.org",
                      " Journal of Information Systems",
                      4
                    ],
                    [
                      "D Beyer, S Kanav, H Wachowitz",
                      2023,
                      " ieeexplore.ieee.org",
                      " … Conference on Software …",
                      3
                    ],
                    [
                      "MH Malik, N Velan",
                      2020,
                      " emerald.com",
                      " International Trade  Politics and Development",
                      3
                    ],
                    [
                      "T Hacaloglu, O Demirors",
                      2023,
                      " Springer",
                      " Information Technology and Management",
                      3
                    ],
                    [
                      "S Kugele, P Obergfell, E Sax",
                      2021,
                      " Springer",
                      " Software and systems modeling",
                      3
                    ],
                    [
                      "JM Stauffer, A Megahed, C Sriskandarajah",
                      2021,
                      " Taylor & Francis",
                      " Iise Transactions",
                      3
                    ],
                    [
                      "Ł Tomczyk",
                      2020,
                      " learntechlib.org",
                      " International Journal of Emerging Technologies in …",
                      3
                    ],
                    [
                      "NH Basiran, MM Yusof",
                      2023,
                      " journals.sagepub.com",
                      " Information Development",
                      3
                    ],
                    [
                      "SP Lee, K Kim, S Park",
                      2023,
                      " Springer",
                      " Information Systems Frontiers",
                      3
                    ],
                    [
                      "AMA Ibrahim, NS Abdullah, M Bahari",
                      2023,
                      " Springer",
                      " Proceedings of the Future …",
                      3
                    ],
                    [
                      "JB Yi, T Kang, D Song, SJ Yi",
                      2020,
                      " mdpi.com",
                      " Applied Sciences",
                      3
                    ],
                    [
                      "E Baumann, J Kern, S Lessmann",
                      2022,
                      " Springer",
                      " Information Systems Frontiers",
                      2
                    ],
                    [
                      "AG Adusei, J Härkönen, E Mustonen",
                      2021,
                      " oulurepo.oulu.fi",
                      null,
                      2
                    ],
                    [
                      "H Song, F Chauvel, PH Nguyen",
                      2020,
                      " Springer",
                      " Microservices: Science and Engineering",
                      2
                    ],
                    [
                      "EO Zaballa, D Franco, SE Thomsen, M Higuero…",
                      2021,
                      " Elsevier",
                      " Computer Networks",
                      2
                    ],
                    [
                      "A Rrucaj",
                      2023,
                      " theseus.fi",
                      null,
                      2
                    ],
                    [
                      "A Qasem Ali, AB Md Sultan, AA Abd Ghani, H Zulzalil",
                      2021,
                      " mdpi.com",
                      " Applied Sciences",
                      2
                    ],
                    [
                      "N Phumchusri…",
                      2024,
                      " inderscienceonline.com",
                      " International Journal of …",
                      2
                    ],
                    [
                      "M Sapdiaz, TE Panggabean…",
                      2023,
                      " ejournal.unisbablitar.ac.id",
                      " Antivirus: Jurnal Ilmiah …",
                      2
                    ],
                    [
                      "A Calatrava Arroyo, M Ramos Montes…",
                      2020,
                      " mdpi.com",
                      " Applied Sciences",
                      2
                    ],
                    [
                      "M Fretschner, T Clauss, T Hagenau…",
                      2022,
                      " Taylor & Francis",
                      " Technology analysis & …",
                      2
                    ],
                    [
                      "A Ahmad, M Waseem, P Liang, M Fehmideh…",
                      2023,
                      " arxiv.org",
                      " arXiv preprint arXiv …",
                      2
                    ],
                    [
                      "SM Maluleka, A Budree…",
                      2023,
                      " ieeexplore.ieee.org",
                      " 2023 ninth international …",
                      2
                    ],
                    [
                      "HJ Hadi, MA Omar, WRS Osman…",
                      2020,
                      " dsgate.uum.edu.my",
                      " … of Theoretical and …",
                      2
                    ],
                    [
                      "M De Stefano, D Di Nucci, F Palomba, D Taibi…",
                      2022,
                      " dl.acm.org",
                      " … for Software …",
                      2
                    ],
                    [
                      "WS Alnumay",
                      2020,
                      " m.mu.edu.sa",
                      " Journal of Engineering and Applied Sciences",
                      2
                    ],
                    [
                      "F Ju, X Wei, L Huang, AJ Jenkins, L Xia…",
                      2024,
                      " ACS Publications",
                      " Journal of Chemical …",
                      2
                    ],
                    [
                      "AF Del Carpio, LB Angarita",
                      2023,
                      " ieeexplore.ieee.org",
                      " … Conference on Software …",
                      1
                    ],
                    [
                      "J Ekie, B Gueye, I Niang, T Ekie",
                      2021,
                      " ieeexplore.ieee.org",
                      " … Conference on Software …",
                      1
                    ],
                    [
                      "Ł Tomczyk, L Fedeli, A Włoch, P Limone…",
                      2022,
                      " library.apsce.net",
                      " … on Computers in …",
                      1
                    ],
                    [
                      "A Saltan",
                      2021,
                      " lutpub.lut.fi",
                      null,
                      1
                    ],
                    [
                      "PR Wijaya, PV Crisgar, MDF Pakpahan…",
                      2021,
                      " ieeexplore.ieee.org",
                      " … on Electronics and …",
                      1
                    ],
                    [
                      "R De Smet, S Thielemans, J Lemeire…",
                      2022,
                      " ieeexplore.ieee.org",
                      " 2022 IEEE 9th …",
                      1
                    ],
                    [
                      "H Tju, POH Putra, PW Handayani",
                      2020,
                      " ieeexplore.ieee.org",
                      " … International Conference on …",
                      1
                    ],
                    [
                      "Y Yahfizham",
                      2020,
                      " repository.uinsu.ac.id",
                      null,
                      1
                    ],
                    [
                      "A Bora, T Bezboruah",
                      2020,
                      " sid.ir",
                      null,
                      1
                    ],
                    [
                      "IGAA Ardini, K Masakazu",
                      2020,
                      " ejournal.undiksha.ac.id",
                      " Jurnal Nasional Pendidikan …",
                      1
                    ],
                    [
                      "M Kolak, M Steptoe, H Manprisio, L Azu-Popow…",
                      2020,
                      " Springer",
                      " … technologies for urban …",
                      1
                    ],
                    [
                      "J Kinnunen",
                      2021,
                      " Springer",
                      " International Conference on Cloud Computing",
                      1
                    ],
                    [
                      "HJ Hadi, MA Omar, WR Sheik Osman…",
                      2020,
                      " repo.uum.edu.my",
                      " Journal of Theoretical …",
                      1
                    ],
                    [
                      "M Kuciapski, P Lustofin, P Soja",
                      2021,
                      " scholarspace.manoa.hawaii.edu",
                      null,
                      1
                    ],
                    [
                      "IM Sukarsa, PW Buana…",
                      2020,
                      " journal.unnes.ac.id",
                      " Scientific Journal of …",
                      1
                    ],
                    [
                      "ARI Farizi, B Sujatmiko",
                      2021,
                      " ejournal.unesa.ac.id",
                      "Edu: Jurnal Information …",
                      1
                    ],
                    [
                      "MH Cancian, RJ Rabelo, JCR Hauck",
                      2020,
                      " Springer",
                      " … in Systems and Software …",
                      1
                    ],
                    [
                      "FMS López, JMP Delgado…",
                      2021,
                      " ieeexplore.ieee.org",
                      " … on Software …",
                      1
                    ],
                    [
                      "P Lustofin, P Soja, M Kuciapski",
                      2020,
                      " scholar.archive.org",
                      null,
                      0
                    ],
                    [
                      "K Kasemsap",
                      0,
                      "global.com",
                      null,
                      0
                    ],
                    [
                      "J Kärkkäinen",
                      2023,
                      " jyx.jyu.fi",
                      null,
                      0
                    ],
                    [
                      "A Mokhtarian, B Alrifaee, A Kampmann",
                      0,
                      "aachen.de",
                      null,
                      0
                    ],
                    [
                      "AMM Iordache, CO Mihalcescu…",
                      0,
                      "conferences.org",
                      null,
                      0
                    ],
                    [
                      "R Mohanasundaram, A Jayanthiladevi…",
                      0,
                      "global.com",
                      null,
                      0
                    ],
                    [
                      "T Honkonen",
                      2023,
                      " jyx.jyu.fi",
                      null,
                      0
                    ],
                    [
                      "AD Kusnadi, F Einarsson",
                      0,
                      "portal.org",
                      null,
                      0
                    ]
                  ],
                  "hovertemplate": "<b>%{hovertext}</b><br><br>Rank=%{x}<br>Citations=%{y}<br>Author=%{customdata[0]}<br>Year=%{customdata[1]}<br>Publisher=%{customdata[2]}<br>Venue=%{customdata[3]}<br>cit/year=%{customdata[4]}<extra></extra>",
                  "hovertext": [
                    "Cloud-based e-learning: scaffolding the environment for<br>adaptive e-learning ecosystem based on cloud computing<br>infrastructure",
                    "An ensemble learning and fog-cloud architecture-driven<br>cyber-attack detection framework for IoMT networks",
                    "The control and communication management for ultra dense<br>cloud system using fast Fourier algorithm",
                    "Sufficient comparison among cloud computing services: IaaS,<br>PaaS, and SaaS: A review",
                    "Unfolding the digital servitization path from products to<br>product-service-software systems: Practicing change through<br>intentional narratives",
                    "Blocksdn: Blockchain-as-a-service for software defined<br>networking in smart city applications",
                    "VNF-based service provision in software defined LEO<br>satellite networks",
                    "Exploring digital servitization trajectories within<br>product–service–software space",
                    "Overcoming the challenges of smart solution development:<br>Co-alignment of processes, routines, and practices to manage<br>product, service, and software …",
                    "Detection techniques of distributed denial of service<br>attacks on software-defined networking controller–a review",
                    "ESG maturity: A software framework for the challenges of ESG<br>data in investment",
                    "Robotics software engineering: A perspective from the<br>service robotics domain",
                    "Quantum software as a service through a quantum API gateway",
                    "Quantum service-oriented computing: current landscape and<br>challenges",
                    "A taxonomy of service identification approaches for legacy<br>software systems modernization",
                    "Mediation role of business value and strategy in firm<br>performance of organizations using software-as-a-service<br>enterprise applications",
                    "Agile logic for SaaS implementation: Capitalizing on<br>marketing automation software in a start-up",
                    "A deep learning technique to detect distributed denial of<br>service attacks in software-defined networks",
                    "Systematic Review on Software Application Under-distributed<br>Denial of Service Attacks for Group Websites",
                    "Identifying bad software changes via multimodal anomaly<br>detection for online service systems",
                    "Are software automation and teleworker substitutes?<br>Preliminary evidence from Japan",
                    "Dynamic On-Demand Virtual Extensible LAN Tunnels via<br>Software-Defined Wide Area Networks",
                    "AI-assisted service virtualization and flow management<br>framework for 6G-enabled cloud-software-defined<br>network-based IoT",
                    "Managing Software‐as‐a‐Service: Pricing and operations",
                    "Slow denial-of-service attacks on software defined networks",
                    "Analysis of serverless computing techniques in cloud<br>software framework",
                    "Hybrid clouds arising from software as a service adoption:<br>challenges, solutions, and future research directions",
                    "Software as a service: Lessons from the video game industry",
                    "A genetic load balancing algorithm to improve the QoS<br>metrics for software defined networking for multimedia<br>applications",
                    "Neural network-based approach for identifying the influence<br>of factors affecting the green building rating of a rural<br>housing construction",
                    "Introducing cloud-assisted micro-service-based software<br>development framework for healthcare systems",
                    "Software-as-a-service security challenges and best<br>practices: A multivocal literature review",
                    "Evaluating the practices of flexibility maturity for the<br>software product and service organizations",
                    "Advancing software-defined service-centric networking toward<br>in-network intelligence",
                    "Adapting teaching of a software engineering service course<br>due to COVID-19",
                    "Competitive pricing strategies for software and SaaS<br>products",
                    "The influence of customer involvement and engagement on<br>co-creation of services, satisfaction, and loyalty: The case<br>of Software as a Service",
                    "Software architecture and task plan co-adaptation for mobile<br>service robots",
                    "Profipy: Programmable software fault injection as-a-service",
                    "Toward gamification to software engineering and contribution<br>of software engineer",
                    "Building explanations for fuzzy decision trees with the<br>expliclas software",
                    "A software architecture to control service-oriented<br>manufacturing systems",
                    "SaaSC: Toward pay-as-you-go mode for software service<br>transactions based on Blockchain's smart legal contracts",
                    "Integration of on-premises and cloud-based software: the<br>product bundling perspective",
                    "A comprehensive survey on Software as a Service (SaaS)<br>transformation for the automotive systems",
                    "How software as a service simultaneously affords<br>organizational agility and inertia",
                    "A software architecture for service robots manipulating<br>objects in human environments",
                    "Trust in cloud-based services: A framework for consumer<br>adoption of software as a service",
                    "CoVeriTeam Service: Verification as a service",
                    "An analysis of IT software and service exports from India",
                    "An exploratory case study using events as a software size<br>measure",
                    "Model-based resource analysis and synthesis of<br>service-oriented automotive software architectures",
                    "Elasticity management for capacity planning in software as a<br>service cloud computing",
                    "Attitude to ICT and self-evaluation of fluency in using new<br>digital devices, websites and software among pre-service<br>teachers",
                    "Measuring factors influencing quality of<br>software-as-a-service",
                    "Investigating the market success of software-as-a-service<br>providers: The multivariate latent growth curve model<br>approach",
                    "Software as a service challenges: A systematic literature<br>review",
                    "Unified software platform for intelligent home service<br>robots",
                    "Usage continuance in Software-as-a-Service",
                    "Productization and product structure: Extending the<br>perspective to software business",
                    "Using microservices to customize multi-tenant<br>software-as-a-service",
                    "Towards monitoring hybrid next-generation software-defined<br>and service provider MPLS networks",
                    "Creating and sustaining competitive advantage in the<br>software as a service (SaaS) Industry: best practices for<br>strategic management",
                    "An empirical investigation of software customization and its<br>impact on the quality of software as a service: Perspectives<br>from software professionals",
                    "Machine learning models for predicting customer churn: a<br>case study in a software-as-a-service inventory management<br>company",
                    "Building E-Learning Application Using Cloud Computing with<br>Software As A Service (SAAS) Model",
                    "A pilot experience with software programming environments as<br>a service for teaching activities",
                    "CEOs' search for alignment: the impact of strategic<br>orientations on an extended adoption of<br>Software-as-a-Service in SMEs",
                    "Engineering software systems for quantum computing as a<br>service: A mapping study",
                    "A systematic literature review on south african government<br>to harness software as a service for enhanced e-government",
                    "Performing a content validity: Establishing a reliable<br>instrument to measure the intention to adopt cloud computing<br>software as a service in public organisation",
                    "Towards quantum-algorithms-as-a-service",
                    "A brief study on Software as a Service in Cloud Computing<br>Paradigm",
                    "Acceleration without disruption: DFT software as a service",
                    "Assistant solutions in software engineering: a systematic<br>literature review",
                    "A survey on QoS-based service composition in Cloud system<br>environment",
                    "Evaluation of the quality of the educational software from<br>the perspective of experiences of italian and polish<br>pre-service teachers",
                    "Revealing the state of software-as-a-service pricing",
                    "Implementation of motor vehicle tracking<br>software-as-a-service (SaaS) application based on<br>progressive web app",
                    "Educational software-as-a-service based on JupyterHub and<br>nbgrader running on Kubernetes",
                    "Software as a service adoption in micro, small and medium<br>enterprise in Indonesia: Examining the environmental factors",
                    "A review of cloud learning management system (CLSM) based on<br>software as a service (SaaS)",
                    "Investigation on reliability estimation of loosely coupled<br>software as a service execution using clustered and<br>non-clustered web server",
                    "Analisis Implementasi Software As a Service Pada Industri<br>Perhotelan Daerah Bali",
                    "Extending Volunteered Geographic Information (VGI) with<br>geospatial software as a service: Participatory asset<br>mapping infrastructures for urban health",
                    "ERP as software-as-a-service: Factors depicting large<br>enterprises cloud adoption",
                    "Factors affecting the intention to adopt<br>software-as-a-service in public organization from expert's<br>perspective",
                    "Examining the role of trust and risk in the<br>Software-as-a-Service adoption decision",
                    "Software as a Service: Design and Build Lower Usage Cost<br>Email Marketing for Hospitality Industry",
                    "Efektivitas Pemanfaatan Cloud Computing Berbasis Software As<br>a Service (Onlinegdb Compiler) Untuk Meningkatkan Kompetensi<br>Siswa Pada Mata Pelajaran …",
                    "Towards a capability and maturity model for collaborative<br>Software-as-a-Service",
                    "Performance-based software architecture design and<br>blockchain as a service for Peruvian e-government",
                    "Investigating the role of business-IT alignment in the<br>software-as-a-service adoption decision: a preliminary model",
                    "Software as a service, Semantic Web, and big data: Theories<br>and applications",
                    "Software as a Service-ohjelmistot pienissä ja keskisuurissa<br>yrityksissä",
                    "The dynamic service-oriented software architecture for the<br>UNICARagil Project",
                    "Using a software as a service program in sales-marketing: a<br>case study on Odoo",
                    "Software-Defined Cloud Infrastructure",
                    "Software as a Service käyttöönoton haasteet ja hyödyt",
                    "Marketing strategy for software as a service companies<br>within the logistics vertical software niche: A multiple<br>case study"
                  ],
                  "legendgroup": "",
                  "marker": {
                    "color": "#636efa",
                    "symbol": "circle"
                  },
                  "mode": "markers",
                  "name": "",
                  "orientation": "v",
                  "showlegend": false,
                  "type": "scatter",
                  "x": {
                    "bdata": "YEc1K1dIY09aXktEBEYyCjlhYkNROEwGXDEBBUA8OwIPSj86EF8uRU1dM2QDCA0OW1VOWBEYDBQJUh5JGhsWEx0VQh9UEiI3CwdQWVYZJSccKi8pKCEjJC02JjQwFz0+IFNBLA==",
                    "dtype": "i1"
                  },
                  "xaxis": "x",
                  "y": {
                    "bdata": "cwENAaMAxQCGAIoAWwBVAEMAaAAuAFsATQA8AEcASAA4ABwAKwBDABgALQAwACoAPQAnABkAMgAcABwAHQAbACIAGAAeABwADgAfAB4AFgAXAA8ACwAZAAsADQAXABgACQASAAkAEQARABAACAAJAAgAEwAIAAgADwAMAAYACgADAAYADQAIAAcABQAJAAcADgAFAAQABwAEAAYABwADAAgACAAFAAgACAAFAAcABwAFAAQABgAFAAMAEAAAABQABgAGAAAABAA=",
                    "dtype": "i2"
                  },
                  "yaxis": "y"
                }
              ],
              "layout": {
                "legend": {
                  "tracegroupgap": 0
                },
                "template": {
                  "data": {
                    "bar": [
                      {
                        "error_x": {
                          "color": "#2a3f5f"
                        },
                        "error_y": {
                          "color": "#2a3f5f"
                        },
                        "marker": {
                          "line": {
                            "color": "#E5ECF6",
                            "width": 0.5
                          },
                          "pattern": {
                            "fillmode": "overlay",
                            "size": 10,
                            "solidity": 0.2
                          }
                        },
                        "type": "bar"
                      }
                    ],
                    "barpolar": [
                      {
                        "marker": {
                          "line": {
                            "color": "#E5ECF6",
                            "width": 0.5
                          },
                          "pattern": {
                            "fillmode": "overlay",
                            "size": 10,
                            "solidity": 0.2
                          }
                        },
                        "type": "barpolar"
                      }
                    ],
                    "carpet": [
                      {
                        "aaxis": {
                          "endlinecolor": "#2a3f5f",
                          "gridcolor": "white",
                          "linecolor": "white",
                          "minorgridcolor": "white",
                          "startlinecolor": "#2a3f5f"
                        },
                        "baxis": {
                          "endlinecolor": "#2a3f5f",
                          "gridcolor": "white",
                          "linecolor": "white",
                          "minorgridcolor": "white",
                          "startlinecolor": "#2a3f5f"
                        },
                        "type": "carpet"
                      }
                    ],
                    "choropleth": [
                      {
                        "colorbar": {
                          "outlinewidth": 0,
                          "ticks": ""
                        },
                        "type": "choropleth"
                      }
                    ],
                    "contour": [
                      {
                        "colorbar": {
                          "outlinewidth": 0,
                          "ticks": ""
                        },
                        "colorscale": [
                          [
                            0,
                            "#0d0887"
                          ],
                          [
                            0.1111111111111111,
                            "#46039f"
                          ],
                          [
                            0.2222222222222222,
                            "#7201a8"
                          ],
                          [
                            0.3333333333333333,
                            "#9c179e"
                          ],
                          [
                            0.4444444444444444,
                            "#bd3786"
                          ],
                          [
                            0.5555555555555556,
                            "#d8576b"
                          ],
                          [
                            0.6666666666666666,
                            "#ed7953"
                          ],
                          [
                            0.7777777777777778,
                            "#fb9f3a"
                          ],
                          [
                            0.8888888888888888,
                            "#fdca26"
                          ],
                          [
                            1,
                            "#f0f921"
                          ]
                        ],
                        "type": "contour"
                      }
                    ],
                    "contourcarpet": [
                      {
                        "colorbar": {
                          "outlinewidth": 0,
                          "ticks": ""
                        },
                        "type": "contourcarpet"
                      }
                    ],
                    "heatmap": [
                      {
                        "colorbar": {
                          "outlinewidth": 0,
                          "ticks": ""
                        },
                        "colorscale": [
                          [
                            0,
                            "#0d0887"
                          ],
                          [
                            0.1111111111111111,
                            "#46039f"
                          ],
                          [
                            0.2222222222222222,
                            "#7201a8"
                          ],
                          [
                            0.3333333333333333,
                            "#9c179e"
                          ],
                          [
                            0.4444444444444444,
                            "#bd3786"
                          ],
                          [
                            0.5555555555555556,
                            "#d8576b"
                          ],
                          [
                            0.6666666666666666,
                            "#ed7953"
                          ],
                          [
                            0.7777777777777778,
                            "#fb9f3a"
                          ],
                          [
                            0.8888888888888888,
                            "#fdca26"
                          ],
                          [
                            1,
                            "#f0f921"
                          ]
                        ],
                        "type": "heatmap"
                      }
                    ],
                    "histogram": [
                      {
                        "marker": {
                          "pattern": {
                            "fillmode": "overlay",
                            "size": 10,
                            "solidity": 0.2
                          }
                        },
                        "type": "histogram"
                      }
                    ],
                    "histogram2d": [
                      {
                        "colorbar": {
                          "outlinewidth": 0,
                          "ticks": ""
                        },
                        "colorscale": [
                          [
                            0,
                            "#0d0887"
                          ],
                          [
                            0.1111111111111111,
                            "#46039f"
                          ],
                          [
                            0.2222222222222222,
                            "#7201a8"
                          ],
                          [
                            0.3333333333333333,
                            "#9c179e"
                          ],
                          [
                            0.4444444444444444,
                            "#bd3786"
                          ],
                          [
                            0.5555555555555556,
                            "#d8576b"
                          ],
                          [
                            0.6666666666666666,
                            "#ed7953"
                          ],
                          [
                            0.7777777777777778,
                            "#fb9f3a"
                          ],
                          [
                            0.8888888888888888,
                            "#fdca26"
                          ],
                          [
                            1,
                            "#f0f921"
                          ]
                        ],
                        "type": "histogram2d"
                      }
                    ],
                    "histogram2dcontour": [
                      {
                        "colorbar": {
                          "outlinewidth": 0,
                          "ticks": ""
                        },
                        "colorscale": [
                          [
                            0,
                            "#0d0887"
                          ],
                          [
                            0.1111111111111111,
                            "#46039f"
                          ],
                          [
                            0.2222222222222222,
                            "#7201a8"
                          ],
                          [
                            0.3333333333333333,
                            "#9c179e"
                          ],
                          [
                            0.4444444444444444,
                            "#bd3786"
                          ],
                          [
                            0.5555555555555556,
                            "#d8576b"
                          ],
                          [
                            0.6666666666666666,
                            "#ed7953"
                          ],
                          [
                            0.7777777777777778,
                            "#fb9f3a"
                          ],
                          [
                            0.8888888888888888,
                            "#fdca26"
                          ],
                          [
                            1,
                            "#f0f921"
                          ]
                        ],
                        "type": "histogram2dcontour"
                      }
                    ],
                    "mesh3d": [
                      {
                        "colorbar": {
                          "outlinewidth": 0,
                          "ticks": ""
                        },
                        "type": "mesh3d"
                      }
                    ],
                    "parcoords": [
                      {
                        "line": {
                          "colorbar": {
                            "outlinewidth": 0,
                            "ticks": ""
                          }
                        },
                        "type": "parcoords"
                      }
                    ],
                    "pie": [
                      {
                        "automargin": true,
                        "type": "pie"
                      }
                    ],
                    "scatter": [
                      {
                        "fillpattern": {
                          "fillmode": "overlay",
                          "size": 10,
                          "solidity": 0.2
                        },
                        "type": "scatter"
                      }
                    ],
                    "scatter3d": [
                      {
                        "line": {
                          "colorbar": {
                            "outlinewidth": 0,
                            "ticks": ""
                          }
                        },
                        "marker": {
                          "colorbar": {
                            "outlinewidth": 0,
                            "ticks": ""
                          }
                        },
                        "type": "scatter3d"
                      }
                    ],
                    "scattercarpet": [
                      {
                        "marker": {
                          "colorbar": {
                            "outlinewidth": 0,
                            "ticks": ""
                          }
                        },
                        "type": "scattercarpet"
                      }
                    ],
                    "scattergeo": [
                      {
                        "marker": {
                          "colorbar": {
                            "outlinewidth": 0,
                            "ticks": ""
                          }
                        },
                        "type": "scattergeo"
                      }
                    ],
                    "scattergl": [
                      {
                        "marker": {
                          "colorbar": {
                            "outlinewidth": 0,
                            "ticks": ""
                          }
                        },
                        "type": "scattergl"
                      }
                    ],
                    "scattermap": [
                      {
                        "marker": {
                          "colorbar": {
                            "outlinewidth": 0,
                            "ticks": ""
                          }
                        },
                        "type": "scattermap"
                      }
                    ],
                    "scattermapbox": [
                      {
                        "marker": {
                          "colorbar": {
                            "outlinewidth": 0,
                            "ticks": ""
                          }
                        },
                        "type": "scattermapbox"
                      }
                    ],
                    "scatterpolar": [
                      {
                        "marker": {
                          "colorbar": {
                            "outlinewidth": 0,
                            "ticks": ""
                          }
                        },
                        "type": "scatterpolar"
                      }
                    ],
                    "scatterpolargl": [
                      {
                        "marker": {
                          "colorbar": {
                            "outlinewidth": 0,
                            "ticks": ""
                          }
                        },
                        "type": "scatterpolargl"
                      }
                    ],
                    "scatterternary": [
                      {
                        "marker": {
                          "colorbar": {
                            "outlinewidth": 0,
                            "ticks": ""
                          }
                        },
                        "type": "scatterternary"
                      }
                    ],
                    "surface": [
                      {
                        "colorbar": {
                          "outlinewidth": 0,
                          "ticks": ""
                        },
                        "colorscale": [
                          [
                            0,
                            "#0d0887"
                          ],
                          [
                            0.1111111111111111,
                            "#46039f"
                          ],
                          [
                            0.2222222222222222,
                            "#7201a8"
                          ],
                          [
                            0.3333333333333333,
                            "#9c179e"
                          ],
                          [
                            0.4444444444444444,
                            "#bd3786"
                          ],
                          [
                            0.5555555555555556,
                            "#d8576b"
                          ],
                          [
                            0.6666666666666666,
                            "#ed7953"
                          ],
                          [
                            0.7777777777777778,
                            "#fb9f3a"
                          ],
                          [
                            0.8888888888888888,
                            "#fdca26"
                          ],
                          [
                            1,
                            "#f0f921"
                          ]
                        ],
                        "type": "surface"
                      }
                    ],
                    "table": [
                      {
                        "cells": {
                          "fill": {
                            "color": "#EBF0F8"
                          },
                          "line": {
                            "color": "white"
                          }
                        },
                        "header": {
                          "fill": {
                            "color": "#C8D4E3"
                          },
                          "line": {
                            "color": "white"
                          }
                        },
                        "type": "table"
                      }
                    ]
                  },
                  "layout": {
                    "annotationdefaults": {
                      "arrowcolor": "#2a3f5f",
                      "arrowhead": 0,
                      "arrowwidth": 1
                    },
                    "autotypenumbers": "strict",
                    "coloraxis": {
                      "colorbar": {
                        "outlinewidth": 0,
                        "ticks": ""
                      }
                    },
                    "colorscale": {
                      "diverging": [
                        [
                          0,
                          "#8e0152"
                        ],
                        [
                          0.1,
                          "#c51b7d"
                        ],
                        [
                          0.2,
                          "#de77ae"
                        ],
                        [
                          0.3,
                          "#f1b6da"
                        ],
                        [
                          0.4,
                          "#fde0ef"
                        ],
                        [
                          0.5,
                          "#f7f7f7"
                        ],
                        [
                          0.6,
                          "#e6f5d0"
                        ],
                        [
                          0.7,
                          "#b8e186"
                        ],
                        [
                          0.8,
                          "#7fbc41"
                        ],
                        [
                          0.9,
                          "#4d9221"
                        ],
                        [
                          1,
                          "#276419"
                        ]
                      ],
                      "sequential": [
                        [
                          0,
                          "#0d0887"
                        ],
                        [
                          0.1111111111111111,
                          "#46039f"
                        ],
                        [
                          0.2222222222222222,
                          "#7201a8"
                        ],
                        [
                          0.3333333333333333,
                          "#9c179e"
                        ],
                        [
                          0.4444444444444444,
                          "#bd3786"
                        ],
                        [
                          0.5555555555555556,
                          "#d8576b"
                        ],
                        [
                          0.6666666666666666,
                          "#ed7953"
                        ],
                        [
                          0.7777777777777778,
                          "#fb9f3a"
                        ],
                        [
                          0.8888888888888888,
                          "#fdca26"
                        ],
                        [
                          1,
                          "#f0f921"
                        ]
                      ],
                      "sequentialminus": [
                        [
                          0,
                          "#0d0887"
                        ],
                        [
                          0.1111111111111111,
                          "#46039f"
                        ],
                        [
                          0.2222222222222222,
                          "#7201a8"
                        ],
                        [
                          0.3333333333333333,
                          "#9c179e"
                        ],
                        [
                          0.4444444444444444,
                          "#bd3786"
                        ],
                        [
                          0.5555555555555556,
                          "#d8576b"
                        ],
                        [
                          0.6666666666666666,
                          "#ed7953"
                        ],
                        [
                          0.7777777777777778,
                          "#fb9f3a"
                        ],
                        [
                          0.8888888888888888,
                          "#fdca26"
                        ],
                        [
                          1,
                          "#f0f921"
                        ]
                      ]
                    },
                    "colorway": [
                      "#636efa",
                      "#EF553B",
                      "#00cc96",
                      "#ab63fa",
                      "#FFA15A",
                      "#19d3f3",
                      "#FF6692",
                      "#B6E880",
                      "#FF97FF",
                      "#FECB52"
                    ],
                    "font": {
                      "color": "#2a3f5f"
                    },
                    "geo": {
                      "bgcolor": "white",
                      "lakecolor": "white",
                      "landcolor": "#E5ECF6",
                      "showlakes": true,
                      "showland": true,
                      "subunitcolor": "white"
                    },
                    "hoverlabel": {
                      "align": "left"
                    },
                    "hovermode": "closest",
                    "mapbox": {
                      "style": "light"
                    },
                    "paper_bgcolor": "white",
                    "plot_bgcolor": "#E5ECF6",
                    "polar": {
                      "angularaxis": {
                        "gridcolor": "white",
                        "linecolor": "white",
                        "ticks": ""
                      },
                      "bgcolor": "#E5ECF6",
                      "radialaxis": {
                        "gridcolor": "white",
                        "linecolor": "white",
                        "ticks": ""
                      }
                    },
                    "scene": {
                      "xaxis": {
                        "backgroundcolor": "#E5ECF6",
                        "gridcolor": "white",
                        "gridwidth": 2,
                        "linecolor": "white",
                        "showbackground": true,
                        "ticks": "",
                        "zerolinecolor": "white"
                      },
                      "yaxis": {
                        "backgroundcolor": "#E5ECF6",
                        "gridcolor": "white",
                        "gridwidth": 2,
                        "linecolor": "white",
                        "showbackground": true,
                        "ticks": "",
                        "zerolinecolor": "white"
                      },
                      "zaxis": {
                        "backgroundcolor": "#E5ECF6",
                        "gridcolor": "white",
                        "gridwidth": 2,
                        "linecolor": "white",
                        "showbackground": true,
                        "ticks": "",
                        "zerolinecolor": "white"
                      }
                    },
                    "shapedefaults": {
                      "line": {
                        "color": "#2a3f5f"
                      }
                    },
                    "ternary": {
                      "aaxis": {
                        "gridcolor": "white",
                        "linecolor": "white",
                        "ticks": ""
                      },
                      "baxis": {
                        "gridcolor": "white",
                        "linecolor": "white",
                        "ticks": ""
                      },
                      "bgcolor": "#E5ECF6",
                      "caxis": {
                        "gridcolor": "white",
                        "linecolor": "white",
                        "ticks": ""
                      }
                    },
                    "title": {
                      "x": 0.05
                    },
                    "xaxis": {
                      "automargin": true,
                      "gridcolor": "white",
                      "linecolor": "white",
                      "ticks": "",
                      "title": {
                        "standoff": 15
                      },
                      "zerolinecolor": "white",
                      "zerolinewidth": 2
                    },
                    "yaxis": {
                      "automargin": true,
                      "gridcolor": "white",
                      "linecolor": "white",
                      "ticks": "",
                      "title": {
                        "standoff": 15
                      },
                      "zerolinecolor": "white",
                      "zerolinewidth": 2
                    }
                  }
                },
                "title": {
                  "text": "Number of Citations vs Google Scholar Rank"
                },
                "xaxis": {
                  "anchor": "y",
                  "domain": [
                    0,
                    1
                  ],
                  "title": {
                    "text": "Rank"
                  }
                },
                "yaxis": {
                  "anchor": "x",
                  "domain": [
                    0,
                    1
                  ],
                  "title": {
                    "text": "Citations"
                  }
                }
              }
            }
          },
          "metadata": {},
          "output_type": "display_data"
        }
      ],
      "source": [
        "# @title Rank vs Citations\n",
        "view = df.reset_index().copy()\n",
        "\n",
        "# Function to truncate and add line breaks to long titles\n",
        "def shorten_title(title, max_length=60):\n",
        "    words = title.split()\n",
        "    shortened_lines = []\n",
        "    current_line = []\n",
        "\n",
        "    # Add words to the current line until max_length is exceeded\n",
        "    for word in words:\n",
        "        if len(' '.join(current_line + [word])) <= max_length:\n",
        "            current_line.append(word)\n",
        "        else:\n",
        "            shortened_lines.append(' '.join(current_line))\n",
        "            current_line = [word]\n",
        "\n",
        "    # Add the last line\n",
        "    if current_line:\n",
        "        shortened_lines.append(' '.join(current_line))\n",
        "\n",
        "    return '<br>'.join(shortened_lines)\n",
        "\n",
        "\n",
        "# Apply this function to the 'Title' column and create a new column for the shortened titles\n",
        "view['Short_Title'] = view['Title'].apply(shorten_title)\n",
        "\n",
        "# Now use 'Short_Title' for hover_name\n",
        "fig = px.scatter(view,\n",
        "                 x='Rank',\n",
        "                 y='Citations',\n",
        "                 title='Number of Citations vs Google Scholar Rank',\n",
        "                 hover_name='Short_Title',\n",
        "                 hover_data=['Rank', 'Author', 'Citations', 'Year', 'Publisher', 'Venue', 'cit/year']\n",
        ")\n",
        "fig.show()"
      ]
    },
    {
      "cell_type": "code",
      "execution_count": 15,
      "metadata": {},
      "outputs": [
        {
          "name": "stdout",
          "output_type": "stream",
          "text": [
            "BibTeX file exported successfully as software_as_a_service.bib.\n"
          ]
        }
      ],
      "source": [
        "# Generate .bib filename based on the CSV filename\n",
        "bib_filename = os.path.splitext(csv_filename)[0] + \".bib\"\n",
        "\n",
        "# Function to convert DataFrame to BibTeX\n",
        "def df_to_bib(df, filename):\n",
        "    with open(filename, \"w\", encoding=\"utf-8\") as f:\n",
        "        for _, row in df.iterrows():\n",
        "            entry_type = \"article\"  # Assuming all are journal articles\n",
        "            citation_key = f\"{row['Author'].split(',')[0].split()[0]}{row['Year']}\"  # First author + year\n",
        "            entry = f\"\"\"@{entry_type}{{{citation_key},\n",
        "    author = {{{row['Author']}}},\n",
        "    title = {{{row['Title']}}},\n",
        "    year = {{{row['Year']}}},\n",
        "    publisher = {{{row['Publisher']}}},\n",
        "    journal = {{{row['Venue']}}},\n",
        "    url = {{{row['Source']}}}\n",
        "}}\\n\\n\"\"\"\n",
        "            f.write(entry)\n",
        "\n",
        "# Export DataFrame as .bib with the same name as the CSV\n",
        "df_to_bib(df.head(10), bib_filename)\n",
        "\n",
        "print(f\"BibTeX file exported successfully as {bib_filename}.\")"
      ]
    }
  ],
  "metadata": {
    "colab": {
      "include_colab_link": true,
      "name": "Test sortgs.py on Colab.ipynb",
      "provenance": []
    },
    "kernelspec": {
      "display_name": "Python 3",
      "name": "python3"
    },
    "language_info": {
      "codemirror_mode": {
        "name": "ipython",
        "version": 3
      },
      "file_extension": ".py",
      "mimetype": "text/x-python",
      "name": "python",
      "nbconvert_exporter": "python",
      "pygments_lexer": "ipython3",
      "version": "3.12.1"
    }
  },
  "nbformat": 4,
  "nbformat_minor": 0
}
